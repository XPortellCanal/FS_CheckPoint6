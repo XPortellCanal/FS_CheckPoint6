{
  "cells": [
    {
      "cell_type": "markdown",
      "metadata": {
        "id": "JiQUL2J0qRSY"
      },
      "source": [
        "#¿Para qué usamos Clases en Python?\n",
        "\n",
        "Una clase es una agrupación de código que sirve para crear prototipos de objetos. Estos objetos pueden tener variables y/o constantes, que denominamos *propiedades*; y funciones, que denominamos *métodos*. La clase nos define que propiedades y métodos tendrán los objetos de dicha clase. Una vez definida esta, para crear un objeto debemos declararlo en el código indicando que el objeto es de dicha clase, lo que se denomina instanciar y que, esencialmente, significa que se reserva la cantidad de memoria del ordenador necesaria para contener los métodos y propiedades de la clase.\n",
        "El código siguiente define la clase *toyClass*, la cual consta de una propiedad (*propOne*) y un método (*methodOne*) y crea el objeto *toyClassInstance* de clase toyClass. Como se puede apreciar, la sintaxis del proceso de instanciación es parecida a una llamada a una función.\n"
      ]
    },
    {
      "cell_type": "code",
      "execution_count": null,
      "metadata": {
        "colab": {
          "base_uri": "https://localhost:8080/"
        },
        "id": "CsYUBz6VGu7R",
        "outputId": "166cdada-4185-4834-c7a1-c2d12c366cf4"
      },
      "outputs": [
        {
          "name": "stdout",
          "output_type": "stream",
          "text": [
            "5\n",
            "I am a method of the toyClass\n"
          ]
        }
      ],
      "source": [
        "class toyClass:\n",
        "  propOne = 5\n",
        "  def methodOne(self):\n",
        "    return'I am a method of the toyClass'\n",
        "\n",
        "toyClassInstance = toyClass()\n",
        "\n",
        "print(toyClassInstance.propOne)\n",
        "print(toyClassInstance.methodOne())"
      ]
    },
    {
      "cell_type": "markdown",
      "metadata": {
        "id": "kE4j6gw_NzCT"
      },
      "source": [
        "Los métodos requieren al menos del argumento self, el cual hace referencia a la posición en memoria donde se almacena el objeto una vez instanciado."
      ]
    },
    {
      "cell_type": "markdown",
      "metadata": {
        "id": "nA0QuzTbDQkH"
      },
      "source": [
        "#¿Qué es un método dunder?\n",
        "\n",
        "Los métodos dunder son métodos especiales que no son invocados directamente por el programador sino que se invocan internamente cuando se realiza cierta acción. Estos métodos empiezan y terminan con dos guiones bajos (en inglés \"underscore\"), de donde reciben el nombre de dunder (\"double underscore\"). Para entender estos métodos debemos tener claro que todo en Python es un objeto. Así pues, por ejemplo, cuando sumamos dos números enteros, el programador usa el símbolo \"+\" mientras que internamente, se llama al método \\_\\_add__(), el cual define cómo se realiza dicha operación. Para visualizar esto podemos usar el código siguiente:"
      ]
    },
    {
      "cell_type": "code",
      "execution_count": null,
      "metadata": {
        "colab": {
          "base_uri": "https://localhost:8080/"
        },
        "id": "FteW0jjYXuh3",
        "outputId": "61254cd7-b4ad-4838-a3b8-e58840375b1a"
      },
      "outputs": [
        {
          "name": "stdout",
          "output_type": "stream",
          "text": [
            "<class 'int'>\n",
            "<class 'int'>\n",
            "['__abs__', '__add__', '__and__', '__bool__', '__ceil__', '__class__', '__delattr__', '__dir__', '__divmod__', '__doc__', '__eq__', '__float__', '__floor__', '__floordiv__', '__format__', '__ge__', '__getattribute__', '__getnewargs__', '__gt__', '__hash__', '__index__', '__init__', '__init_subclass__', '__int__', '__invert__', '__le__', '__lshift__', '__lt__', '__mod__', '__mul__', '__ne__', '__neg__', '__new__', '__or__', '__pos__', '__pow__', '__radd__', '__rand__', '__rdivmod__', '__reduce__', '__reduce_ex__', '__repr__', '__rfloordiv__', '__rlshift__', '__rmod__', '__rmul__', '__ror__', '__round__', '__rpow__', '__rrshift__', '__rshift__', '__rsub__', '__rtruediv__', '__rxor__', '__setattr__', '__sizeof__', '__str__', '__sub__', '__subclasshook__', '__truediv__', '__trunc__', '__xor__', 'as_integer_ratio', 'bit_count', 'bit_length', 'conjugate', 'denominator', 'from_bytes', 'imag', 'numerator', 'real', 'to_bytes']\n",
            "['__abs__', '__add__', '__and__', '__bool__', '__ceil__', '__class__', '__delattr__', '__dir__', '__divmod__', '__doc__', '__eq__', '__float__', '__floor__', '__floordiv__', '__format__', '__ge__', '__getattribute__', '__getnewargs__', '__gt__', '__hash__', '__index__', '__init__', '__init_subclass__', '__int__', '__invert__', '__le__', '__lshift__', '__lt__', '__mod__', '__mul__', '__ne__', '__neg__', '__new__', '__or__', '__pos__', '__pow__', '__radd__', '__rand__', '__rdivmod__', '__reduce__', '__reduce_ex__', '__repr__', '__rfloordiv__', '__rlshift__', '__rmod__', '__rmul__', '__ror__', '__round__', '__rpow__', '__rrshift__', '__rshift__', '__rsub__', '__rtruediv__', '__rxor__', '__setattr__', '__sizeof__', '__str__', '__sub__', '__subclasshook__', '__truediv__', '__trunc__', '__xor__', 'as_integer_ratio', 'bit_count', 'bit_length', 'conjugate', 'denominator', 'from_bytes', 'imag', 'numerator', 'real', 'to_bytes']\n"
          ]
        }
      ],
      "source": [
        "x = 2\n",
        "y = 5\n",
        "x + y\n",
        "print(type(y))\n",
        "print(type(x))\n",
        "print (dir(type(y)))\n",
        "print (dir(type(x)))"
      ]
    },
    {
      "cell_type": "markdown",
      "metadata": {
        "id": "hw1eVpJnaYsQ"
      },
      "source": [
        "Como se puede apreciar en el código anterior, los objetos *x* e *y* son instancias de la clase \"int\" (entero) y, entre otros, tienen definido el método *\\_\\_add__* que es llamado cuando usamos el simbolo +.\n",
        "\n",
        "Técnicamente, este modo de proceder se denomina sobrecarga de operadores (\"operators overload\" en inglés) y, desde un punto de vista práctico, nos permite definir qué procedimiento debe ejecutarse cuando usamos un operador (por ejemplo, \"+\") con los miembros de las clases que creemos."
      ]
    },
    {
      "cell_type": "markdown",
      "metadata": {
        "id": "iKmddGG5DQ61"
      },
      "source": [
        "\n",
        "\n",
        "#¿Qué método se ejecuta automáticamente cuando se crea una instancia de una clase?\n",
        "\n",
        "Como dijimos anteriormente, los métodos dunder se invocan en segundo plano al realizar una acción como, por ejemplo, la invocación del método \\_\\_add__() al utilizar el operador \"+\". Otro ejemplo relevante es el método *\\_\\_init__()*, el cual se ejecuta en el momento en que creamos una instancia de una clase. El uso típico de este método es el de actuar como inicializador o, tal y como se denomina en el paradigma de programación basado en objetos, de \"constructor\".\n",
        "\n",
        "Retomando la definición de la clase \"toyClass\" vista anteriormente, podemos desarrollar el ejemplo ilustrativo mostrado debajo. En este caso, en vez de asumir un valor para la propiedad de la clase (propOne), vamos a implementar un método \\_\\_init__() que nos permita asignar un valor que introduciremos como argumento al instanciar la classe, el valor 497 en el ejemplo.\n"
      ]
    },
    {
      "cell_type": "code",
      "execution_count": null,
      "metadata": {
        "colab": {
          "base_uri": "https://localhost:8080/"
        },
        "id": "ti1MziOac9HE",
        "outputId": "a33dd03b-1866-40aa-a9ed-a57f77dca3a1"
      },
      "outputs": [
        {
          "name": "stdout",
          "output_type": "stream",
          "text": [
            "497\n",
            "The value of propOne is 497\n"
          ]
        }
      ],
      "source": [
        "class toyClass:\n",
        "\n",
        "  def __init__(self,propOne):\n",
        "    self.propOne = propOne\n",
        "\n",
        "  def methodOne(self):\n",
        "    return f'The value of propOne is {self.propOne}'\n",
        "\n",
        "toyClassInstance = toyClass(497)\n",
        "\n",
        "print(toyClassInstance.propOne)\n",
        "print(toyClassInstance.methodOne())"
      ]
    },
    {
      "cell_type": "markdown",
      "metadata": {
        "id": "-sH6EJi3DRPy"
      },
      "source": [
        "#¿Qué es un decorador de python?\n",
        "\n",
        "Un *decorador*, o función decoradora, es una función que toma otra función como argumento y que añade codigo creando una función diferente. La utilidad de los decoradores recae en que podemos modificar el comportamiento de una función sin tener que modificar su implementación. Veamos un ejemplo ilustrativo:"
      ]
    },
    {
      "cell_type": "code",
      "execution_count": null,
      "metadata": {
        "colab": {
          "base_uri": "https://localhost:8080/"
        },
        "id": "jBS2W2JWqXFS",
        "outputId": "f5507a4b-a132-405d-819b-4d09f161ac75"
      },
      "outputs": [
        {
          "name": "stdout",
          "output_type": "stream",
          "text": [
            "<function decorator.<locals>.inner_wrapper at 0x78dac8ab70a0>\n",
            "I am about to call the function I am decorating\n",
            "Cheese!\n",
            "I just ran the function and I keep adding content to it\n"
          ]
        }
      ],
      "source": [
        "def decorator(func):\n",
        "  def inner_wrapper():\n",
        "    print(\"I am about to call the function I am decorating\")\n",
        "    func()\n",
        "    print(\"I just ran the function and I keep adding content to it\")\n",
        "  return inner_wrapper\n",
        "\n",
        "def cheese():\n",
        "  print(\"Cheese!\")\n",
        "\n",
        "print(decorator(cheese)) # Imprimiendo la referencia a la función inner_wrapper\n",
        "\n",
        "cheese = decorator(cheese) #Decorando la función cheese\n",
        "\n",
        "cheese() #Corremos la función decorada\n"
      ]
    },
    {
      "cell_type": "markdown",
      "metadata": {
        "id": "iVU666Z5Eu6h"
      },
      "source": [
        "Tal y como se muestra en el ejemplo, se ha creado la función *decorator*, la cual requiere una función como argumento y tiene otra función enlazada en su interior, la función *inner_wrapper*. La función decorator devuelve la función modificada pero sin usar parenthesis. Esto significa que en vez de evaluar la función y devolver el resultado, devuelve una referencia a la misma función. Esto nos permite usar la función enlaçada inner_wrapper que solo podría ser invocada desde dentro de la función decorator.\n",
        "\n",
        "Lo mostrado en el ejemplo anterior ilustra el uso de funciones decoradoras en Python. La sintaxis que hemos usado es completamente funcional pero existe una sintaxis alternativa mucho más elegante y legible. Esta se basa en la utilización del símbolo \"@\". Este símbolo, seguido del nombre de la función decoradora, se coloca justo antes de la definición de la función que será decorada. Una vez aplicado al ejemplo anterior obtenemos el siguiente código de programación, más corto pero equivalente al anterior:\n"
      ]
    },
    {
      "cell_type": "code",
      "execution_count": null,
      "metadata": {
        "colab": {
          "base_uri": "https://localhost:8080/"
        },
        "id": "A46mzMbmI1AI",
        "outputId": "7b6ba913-5bb2-46ce-bce8-6aef5f7f5735"
      },
      "outputs": [
        {
          "name": "stdout",
          "output_type": "stream",
          "text": [
            "I am about to call the function I am decorating\n",
            "Cheese!\n",
            "I just ran the function and I keep adding content to it\n"
          ]
        }
      ],
      "source": [
        "def decorator(func):\n",
        "  def inner_wrapper():\n",
        "    print(\"I am about to call the function I am decorating\")\n",
        "    func()\n",
        "    print(\"I just ran the function and I keep adding content to it\")\n",
        "  return inner_wrapper\n",
        "\n",
        "@decorator   #Equivalente a cheese = decorator(cheese)\n",
        "def cheese():\n",
        "  print(\"Cheese!\")\n",
        "\n",
        "cheese() #Corremos la función decorada"
      ]
    },
    {
      "cell_type": "markdown",
      "metadata": {
        "id": "q7csdA1kqRwc"
      },
      "source": [
        "#¿Qué es el polimorfismo?\n",
        "\n",
        "En Python, podemos distinguir tres tipos de polimorfismos, los denominados polimorfismo a través de funciones, polimorfismo de clases y polimorfismo de clases heredadas.\n",
        "\n",
        "\n",
        "\n",
        "*   Polimorfismo a través de funciones (o funcional). Este concepto hace referencia a que una misma función puede ser usada por objetos de tipo distinto, adaptando su comportamiento en función de este. Un ejemplo característico es la función length (len()), que cambia el comportamiento en función del tipo de objeto que pasamos como argumento. Así pues, si el argumento es una cadena de caracteres, la función len() nos devuelve el número de carácteres de la cadena pero si, por ejemplo, el argumento es un diccionario, retorna el número de pares clave/valor.\n",
        "\n",
        "*   Polimorfismo a través de clases. Distintas clases pueden implementar uno o varios métodos con el mismo nombre aunque con definiciones distintas para cada clase. Esto puede aprovecharse en el código para ejecutar el mismo método para las tres clases mediante, por ejemplo, un bucle for o una función. Por ejemplo, supongamos que tenemos las clases perro, pato y cerdo, todas ellas con un método denominado habla. Aprovechando que todas tienen el método habla, podemos invocarlo dentro del bucle for, sin importar que sean de clases distintas, como sigue:\n"
      ]
    },
    {
      "cell_type": "code",
      "execution_count": null,
      "metadata": {
        "colab": {
          "base_uri": "https://localhost:8080/"
        },
        "id": "JudG-yr0NN3F",
        "outputId": "82099daa-3457-45d9-cfa5-565d81fbdc8c"
      },
      "outputs": [
        {
          "name": "stdout",
          "output_type": "stream",
          "text": [
            "Bup, bup!\n",
            "Cua, cua!\n",
            "Oink, oink!\n"
          ]
        }
      ],
      "source": [
        "class perro:\n",
        "  def habla(self):\n",
        "    print(\"Bup, bup!\")\n",
        "\n",
        "class pato:\n",
        "  def habla(self):\n",
        "    print(\"Cua, cua!\")\n",
        "\n",
        "\n",
        "class cerdo:\n",
        "  def habla(self):\n",
        "    print(\"Oink, oink!\")\n",
        "\n",
        "xopi = perro()\n",
        "donald = pato()\n",
        "babe = cerdo()\n",
        "\n",
        "for animal in (xopi, donald, babe):\n",
        "  animal.habla()\n"
      ]
    },
    {
      "cell_type": "markdown",
      "metadata": {
        "id": "VwpUK_WvVeUI"
      },
      "source": [
        "\n",
        "\n",
        "*   Polimorfismo de herencia de clase. Este tipo de polimorfismo hace referencia a que el método polimórfico puede incluso ser heredado de una clase padre sin ser implementado explícitamente. Retomando el ejemplo anterior, asumamos que existe una clase padre denominada animal la cual se usa para crear las clases perro, pato y cebra. Las dos primeras modifican el método habla de la clase padre pero la tercera no. Podemos comprobar que en este caso, aunque la clase cebra ha heredado el método habla de la clase padre animal que puede ser invocada dentro del bucle for, sin importar que no se haya definido explícitamente:"
      ]
    },
    {
      "cell_type": "code",
      "execution_count": null,
      "metadata": {
        "colab": {
          "base_uri": "https://localhost:8080/"
        },
        "id": "jlt9BD-EWsud",
        "outputId": "1a981439-75f3-4eb6-bf27-ca9b92669d11"
      },
      "outputs": [
        {
          "name": "stdout",
          "output_type": "stream",
          "text": [
            "Bup, bup!\n",
            "Cua, cua!\n",
            "Hablo, hablo!\n"
          ]
        }
      ],
      "source": [
        "class animal:\n",
        "  def habla(self):\n",
        "    print(\"Hablo, hablo!\")\n",
        "\n",
        "class perro(animal):\n",
        "  def habla(self):\n",
        "    print(\"Bup, bup!\")\n",
        "\n",
        "class pato(animal):\n",
        "  def habla(self):\n",
        "    print(\"Cua, cua!\")\n",
        "\n",
        "class cebra(animal):\n",
        "  pass\n",
        "\n",
        "xopi = perro()\n",
        "donald = pato()\n",
        "cebri = cebra()\n",
        "\n",
        "for ani in (xopi, donald, cebri):\n",
        "  ani.habla()"
      ]
    },
    {
      "cell_type": "markdown",
      "metadata": {
        "id": "0emYIAQaqSEV"
      },
      "source": [
        "#¿Qué es una API?\n",
        "\n",
        "Una API, del inglés *Application programming interface*, o, en español, Interfaz de programación de aplicaciones, hace referencia a una pieza de código que permite la comunicación entre dos sistemas o aplicaciones. Si lo comparamos a la acción de ir a un restaurante a comer, el cliente desea hacer un pedido y la cocina es la encargada de prepararlo. De manera similar a la función de una API, el camarero es el que permite la conexión entre el cliente, que pide la comida, y la cocina. Primero el camarero crea una nota y la cocina responde a esa nota preparando los platos que, finalmente, son llevados al cliente por el camarero.\n",
        "Cada API es distinta y normalmente viene acompañada de instrucciones para aprender a usarla.\n",
        "\n",
        "#¿Cuáles son los tres verbos de API?\n",
        "\n",
        "Existen diferentes tipos de APIS  con estándares de comunicación distintos. Todas ellas usan los denominados verbos API, que permiten la realización de distintas acciones. Aunque existen otros, los verbos más populares son:\n",
        "\n",
        "*   GET. Usado para solicitar datos o recursos.\n",
        "*   POST. Usado para enviar datos destinados a la creación de un recurso.\n",
        "*   PUT. Usado para actualizar un recurso.\n",
        "*   PATCH. Usado para actualizar una sección específica de un recurso.\n",
        "*   DELETE. Usado para eliminar por completo un recurso.\n",
        "\n",
        "Algunas aplicaciones pueden centrarse en usar solo los verbos POST, PUT y PATCH.\n",
        "\n",
        "#¿Qué es Postman?\n",
        "\n",
        "Postman es una plataforma que te permite conectar con APIs externas o locales. Postman se encarga de la realización de las acciones dictadas por los verbos API y es capaź de formatear los datos devueltos por las APIs, por ejemplo, usando estándar JSON (JavaScript Object Notation), el cual permite una mayor legibilidad (y por tanto comprensión) de los datos.\n",
        "\n",
        "Esta funcionalidad es de utilidad en el proceso de diseño, construcción y testeo de las APIs que se están desarrollando sin la necesidad de desplegar completamente la API en un servidor.\n",
        "\n",
        "\n",
        "#¿Es MongoDB una base de datos SQL o NoSQL?\n",
        "\n",
        "Existen dos grandes grupos de bases de datos, las *relacionales o SQL* (Structured Query Language) y las *no relacionales o NoSQL*. Las bases de datos SQL se desarrollaron los años 70 y organizan la información en tablas, de manera similar a como funcionaria una hoja de cálculo. Cada entidad independiente (por ejemplo, likes, profesores, alumnos, etc) es almacenada en una tabla donde se relacionan registros y campos (p.ej, nombre, edad, dirección, etc). En términos generales este tipo de base de datos prioriza la integridad de la información a costa de una penalización en la velocidad.\n",
        "\n",
        "Las bases de datos no relacionales o noSQL difieren en el sentido de que no tienen una estructura rígida y permiten la redundancia de datos, lo que permite una mayor velocidad de acceso a costa de un enfoque menos basado en la integridad de la información. Al no existir un estándar de referencia, cada motor puede seguir una estructura distinta. Estas bases de datos se pueden dividir en tres tipos principales: *bases de datos clave-valor*, que organizan la información en parejas de clave valor de manera parecida a un diccionario enciclopédico; las *bases de datos documentales* que guardan la información en archivos que toman como base de la información documentos codificados en algún formato estándar, como JSON; y las *bases de datos de grafos*, las cuales organizan la información en nodos que se van conectando.\n",
        "\n",
        "MongoDB es una base de datos documental y por tanto NoSQL. En MongoDB se pueden crear colecciones de documentos, lo cual podría asemejarse a una tabla pero tiene la particularidad de que no existe un esquema de documento fijo y cada uno puede ser distinto. Es decir, contener más campos o de longitud distinta.\n"
      ]
    }
  ],
  "metadata": {
    "colab": {
      "provenance": []
    },
    "kernelspec": {
      "display_name": "Python 3",
      "name": "python3"
    },
    "language_info": {
      "name": "python"
    }
  },
  "nbformat": 4,
  "nbformat_minor": 0
}
